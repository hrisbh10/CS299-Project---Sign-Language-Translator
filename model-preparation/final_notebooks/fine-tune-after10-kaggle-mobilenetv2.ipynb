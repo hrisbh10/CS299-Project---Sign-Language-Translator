{
 "cells": [
  {
   "cell_type": "code",
   "execution_count": 1,
   "metadata": {
    "_cell_guid": "b1076dfc-b9ad-4769-8c92-a6c4dae69d19",
    "_uuid": "8f2839f25d086af736a60e9eeb907d3b93b6e0e5",
    "execution": {
     "iopub.execute_input": "2020-08-15T06:38:43.026693Z",
     "iopub.status.busy": "2020-08-15T06:38:43.025878Z",
     "iopub.status.idle": "2020-08-15T06:38:48.145309Z",
     "shell.execute_reply": "2020-08-15T06:38:48.143932Z"
    },
    "papermill": {
     "duration": 5.134565,
     "end_time": "2020-08-15T06:38:48.145521",
     "exception": false,
     "start_time": "2020-08-15T06:38:43.010956",
     "status": "completed"
    },
    "tags": []
   },
   "outputs": [],
   "source": [
    "import os\n",
    "import tensorflow as tf\n",
    "from tensorflow.keras.preprocessing.image import ImageDataGenerator\n",
    "import matplotlib.pyplot as plt"
   ]
  },
  {
   "cell_type": "code",
   "execution_count": 2,
   "metadata": {
    "_cell_guid": "79c7e3d0-c299-4dcb-8224-4455121ee9b0",
    "_uuid": "d629ff2d2480ee46fbb7e2d37f6b5fab8052498a",
    "execution": {
     "iopub.execute_input": "2020-08-15T06:38:48.189594Z",
     "iopub.status.busy": "2020-08-15T06:38:48.188592Z",
     "iopub.status.idle": "2020-08-15T06:38:48.194048Z",
     "shell.execute_reply": "2020-08-15T06:38:48.195165Z"
    },
    "papermill": {
     "duration": 0.03139,
     "end_time": "2020-08-15T06:38:48.195367",
     "exception": false,
     "start_time": "2020-08-15T06:38:48.163977",
     "status": "completed"
    },
    "tags": []
   },
   "outputs": [],
   "source": [
    "TRAIN_DIR = '../input/asl-alphabet/asl_alphabet_train/asl_alphabet_train'\n",
    "TEST_DIR = '../input/asl-alphabet/asl_alphabet_test/asl_alphabet_test'\n",
    "IMG_SIZE = 192\n",
    "\n",
    "datagen = ImageDataGenerator(rescale = 1./255,\n",
    "                            validation_split = 0.2,\n",
    "                            featurewise_center=False,  # set input mean to 0 over the dataset\n",
    "                            samplewise_center=False,  # set each sample mean to 0\n",
    "                            featurewise_std_normalization=False,  # divide inputs by std of the dataset\n",
    "                            samplewise_std_normalization=False,  # divide each input by its std\n",
    "                            zca_whitening=False,  # apply ZCA whitening\n",
    "                            rotation_range=10,  # randomly rotate images in the range (degrees, 0 to 180)\n",
    "                            zoom_range = 0.1, # Randomly zoom image \n",
    "                            width_shift_range=0.1,  # randomly shift images horizontally (fraction of total width)\n",
    "                            height_shift_range=0.1,  # randomly shift images vertically (fraction of total height)\n",
    "                            horizontal_flip=True,  # randomly flip images\n",
    "                            vertical_flip=False)  # randomly flip images)"
   ]
  },
  {
   "cell_type": "code",
   "execution_count": 3,
   "metadata": {
    "execution": {
     "iopub.execute_input": "2020-08-15T06:38:48.237665Z",
     "iopub.status.busy": "2020-08-15T06:38:48.233722Z",
     "iopub.status.idle": "2020-08-15T06:39:02.655010Z",
     "shell.execute_reply": "2020-08-15T06:39:02.655453Z"
    },
    "papermill": {
     "duration": 14.445571,
     "end_time": "2020-08-15T06:39:02.655628",
     "exception": false,
     "start_time": "2020-08-15T06:38:48.210057",
     "status": "completed"
    },
    "tags": []
   },
   "outputs": [
    {
     "name": "stdout",
     "output_type": "stream",
     "text": [
      "Found 69600 images belonging to 29 classes.\n",
      "Found 17400 images belonging to 29 classes.\n"
     ]
    }
   ],
   "source": [
    "train_data = datagen.flow_from_directory(\n",
    "    directory = TRAIN_DIR,\n",
    "    target_size = (IMG_SIZE,IMG_SIZE),\n",
    "    color_mode = 'rgb',\n",
    "    class_mode = 'categorical',\n",
    "    shuffle = True,\n",
    "    seed = 13,\n",
    "    subset = 'training'\n",
    ")\n",
    "val_data = datagen.flow_from_directory(\n",
    "    directory = TRAIN_DIR,\n",
    "    target_size = (IMG_SIZE,IMG_SIZE),\n",
    "    color_mode = 'rgb',\n",
    "    class_mode = 'categorical',\n",
    "    shuffle = True,\n",
    "    seed = 13,\n",
    "    subset = 'validation'\n",
    ")"
   ]
  },
  {
   "cell_type": "code",
   "execution_count": 4,
   "metadata": {
    "execution": {
     "iopub.execute_input": "2020-08-15T06:39:02.680721Z",
     "iopub.status.busy": "2020-08-15T06:39:02.680077Z",
     "iopub.status.idle": "2020-08-15T06:39:07.152459Z",
     "shell.execute_reply": "2020-08-15T06:39:07.151878Z"
    },
    "papermill": {
     "duration": 4.486574,
     "end_time": "2020-08-15T06:39:07.152595",
     "exception": false,
     "start_time": "2020-08-15T06:39:02.666021",
     "status": "completed"
    },
    "tags": []
   },
   "outputs": [],
   "source": [
    "IMG_SHAPE = (IMG_SIZE,IMG_SIZE,3)\n",
    "model = tf.keras.models.load_model('../input/kaggle-trained-upto10epochs/mobilenetv2_190_kaggle_bm142.h5')"
   ]
  },
  {
   "cell_type": "code",
   "execution_count": 5,
   "metadata": {
    "execution": {
     "iopub.execute_input": "2020-08-15T06:39:07.182741Z",
     "iopub.status.busy": "2020-08-15T06:39:07.181852Z",
     "iopub.status.idle": "2020-08-15T06:39:07.214269Z",
     "shell.execute_reply": "2020-08-15T06:39:07.213717Z"
    },
    "papermill": {
     "duration": 0.051434,
     "end_time": "2020-08-15T06:39:07.214393",
     "exception": false,
     "start_time": "2020-08-15T06:39:07.162959",
     "status": "completed"
    },
    "tags": []
   },
   "outputs": [
    {
     "name": "stdout",
     "output_type": "stream",
     "text": [
      "Model: \"sequential\"\n",
      "_________________________________________________________________\n",
      "Layer (type)                 Output Shape              Param #   \n",
      "=================================================================\n",
      "mobilenetv2_1.00_192 (Functi (None, 6, 6, 1280)        2257984   \n",
      "_________________________________________________________________\n",
      "global_average_pooling2d (Gl (None, 1280)              0         \n",
      "_________________________________________________________________\n",
      "dense (Dense)                (None, 29)                37149     \n",
      "=================================================================\n",
      "Total params: 2,295,133\n",
      "Trainable params: 923,549\n",
      "Non-trainable params: 1,371,584\n",
      "_________________________________________________________________\n"
     ]
    }
   ],
   "source": [
    "model.compile(loss='categorical_crossentropy',optimizer='adam',metrics=['accuracy'])\n",
    "model.summary()"
   ]
  },
  {
   "cell_type": "code",
   "execution_count": 6,
   "metadata": {
    "execution": {
     "iopub.execute_input": "2020-08-15T06:39:07.240128Z",
     "iopub.status.busy": "2020-08-15T06:39:07.239508Z",
     "iopub.status.idle": "2020-08-15T06:39:07.243455Z",
     "shell.execute_reply": "2020-08-15T06:39:07.242939Z"
    },
    "papermill": {
     "duration": 0.018771,
     "end_time": "2020-08-15T06:39:07.243567",
     "exception": false,
     "start_time": "2020-08-15T06:39:07.224796",
     "status": "completed"
    },
    "tags": []
   },
   "outputs": [],
   "source": [
    "from tensorflow.keras.callbacks import ReduceLROnPlateau\n",
    "learning_rate_reduction = ReduceLROnPlateau(monitor='val_accuracy', patience = 2, verbose=1,factor=0.5, min_lr=0.00001)"
   ]
  },
  {
   "cell_type": "code",
   "execution_count": 7,
   "metadata": {
    "execution": {
     "iopub.execute_input": "2020-08-15T06:39:07.271492Z",
     "iopub.status.busy": "2020-08-15T06:39:07.270712Z",
     "iopub.status.idle": "2020-08-15T06:39:19.716801Z",
     "shell.execute_reply": "2020-08-15T06:39:19.716253Z"
    },
    "papermill": {
     "duration": 12.462237,
     "end_time": "2020-08-15T06:39:19.716924",
     "exception": false,
     "start_time": "2020-08-15T06:39:07.254687",
     "status": "completed"
    },
    "tags": []
   },
   "outputs": [
    {
     "name": "stdout",
     "output_type": "stream",
     "text": [
      "20/20 [==============================] - 7s 332ms/step - loss: 0.5198 - accuracy: 0.8984\n",
      "initial loss: 0.52\n",
      "initial accuracy: 0.90\n"
     ]
    }
   ],
   "source": [
    "initial_epochs = 10\n",
    "validation_steps=20\n",
    "total_epochs = 17\n",
    "loss0,accuracy0 = model.evaluate(val_data, steps = validation_steps)\n",
    "\n",
    "print(\"initial loss: {:.2f}\".format(loss0))\n",
    "print(\"initial accuracy: {:.2f}\".format(accuracy0))"
   ]
  },
  {
   "cell_type": "code",
   "execution_count": 8,
   "metadata": {
    "execution": {
     "iopub.execute_input": "2020-08-15T06:39:19.755830Z",
     "iopub.status.busy": "2020-08-15T06:39:19.754984Z",
     "iopub.status.idle": "2020-08-15T08:24:41.114755Z",
     "shell.execute_reply": "2020-08-15T08:24:41.115711Z"
    },
    "papermill": {
     "duration": 6321.381131,
     "end_time": "2020-08-15T08:24:41.115917",
     "exception": false,
     "start_time": "2020-08-15T06:39:19.734786",
     "status": "completed"
    },
    "tags": []
   },
   "outputs": [
    {
     "name": "stdout",
     "output_type": "stream",
     "text": [
      "Epoch 11/17\n",
      "2175/2175 [==============================] - 1024s 471ms/step - loss: 0.0175 - accuracy: 0.9951 - val_loss: 0.6658 - val_accuracy: 0.8868\n",
      "Epoch 12/17\n",
      "2175/2175 [==============================] - 885s 407ms/step - loss: 0.0143 - accuracy: 0.9958 - val_loss: 0.5514 - val_accuracy: 0.8953\n",
      "Epoch 13/17\n",
      "2175/2175 [==============================] - 892s 410ms/step - loss: 0.0153 - accuracy: 0.9956 - val_loss: 0.5859 - val_accuracy: 0.8929\n",
      "Epoch 14/17\n",
      "2175/2175 [==============================] - ETA: 0s - loss: 0.0115 - accuracy: 0.9965\n",
      "Epoch 00014: ReduceLROnPlateau reducing learning rate to 0.0005000000237487257.\n",
      "2175/2175 [==============================] - 908s 418ms/step - loss: 0.0115 - accuracy: 0.9965 - val_loss: 0.6857 - val_accuracy: 0.8893\n",
      "Epoch 15/17\n",
      "2175/2175 [==============================] - 893s 410ms/step - loss: 0.0059 - accuracy: 0.9981 - val_loss: 0.5052 - val_accuracy: 0.9020\n",
      "Epoch 16/17\n",
      "2175/2175 [==============================] - 871s 400ms/step - loss: 0.0045 - accuracy: 0.9986 - val_loss: 0.5294 - val_accuracy: 0.9040\n",
      "Epoch 17/17\n",
      "2175/2175 [==============================] - 834s 384ms/step - loss: 0.0053 - accuracy: 0.9982 - val_loss: 0.4815 - val_accuracy: 0.9048\n"
     ]
    }
   ],
   "source": [
    "history = model.fit(train_data,\n",
    "                    epochs=total_epochs,\n",
    "                    validation_data=val_data,\n",
    "                    initial_epoch=initial_epochs,\n",
    "                    callbacks=[learning_rate_reduction])"
   ]
  },
  {
   "cell_type": "code",
   "execution_count": 9,
   "metadata": {
    "execution": {
     "iopub.execute_input": "2020-08-15T08:24:51.998274Z",
     "iopub.status.busy": "2020-08-15T08:24:51.988022Z",
     "iopub.status.idle": "2020-08-15T08:24:52.265680Z",
     "shell.execute_reply": "2020-08-15T08:24:52.265093Z"
    },
    "papermill": {
     "duration": 5.562697,
     "end_time": "2020-08-15T08:24:52.265819",
     "exception": false,
     "start_time": "2020-08-15T08:24:46.703122",
     "status": "completed"
    },
    "tags": []
   },
   "outputs": [],
   "source": [
    "model.save('mobilenetv2_192_kaggle_bm142.h5')"
   ]
  },
  {
   "cell_type": "code",
   "execution_count": 10,
   "metadata": {
    "execution": {
     "iopub.execute_input": "2020-08-15T08:25:02.937512Z",
     "iopub.status.busy": "2020-08-15T08:25:02.936268Z",
     "iopub.status.idle": "2020-08-15T08:25:03.258469Z",
     "shell.execute_reply": "2020-08-15T08:25:03.258964Z"
    },
    "papermill": {
     "duration": 5.590038,
     "end_time": "2020-08-15T08:25:03.259103",
     "exception": false,
     "start_time": "2020-08-15T08:24:57.669065",
     "status": "completed"
    },
    "tags": []
   },
   "outputs": [
    {
     "data": {
      "image/png": "[encoded data removed]",
      "text/plain": [
       "<Figure size 576x576 with 2 Axes>"
      ]
     },
     "metadata": {
      "needs_background": "light"
     },
     "output_type": "display_data"
    }
   ],
   "source": [
    "acc = history.history['accuracy']\n",
    "val_acc = history.history['val_accuracy']\n",
    "\n",
    "loss = history.history['loss']\n",
    "val_loss = history.history['val_loss']\n",
    "\n",
    "plt.figure(figsize=(8, 8))\n",
    "plt.subplot(2, 1, 1)\n",
    "plt.plot(acc, label='Training Accuracy')\n",
    "plt.plot(val_acc, label='Validation Accuracy')\n",
    "plt.legend(loc='lower right')\n",
    "plt.ylabel('Accuracy')\n",
    "plt.ylim([min(plt.ylim()),1])\n",
    "plt.title('Training and Validation Accuracy')\n",
    "\n",
    "plt.subplot(2, 1, 2)\n",
    "plt.plot(loss, label='Training Loss')\n",
    "plt.plot(val_loss, label='Validation Loss')\n",
    "plt.legend(loc='upper right')\n",
    "plt.ylabel('Cross Entropy')\n",
    "plt.ylim([0,1.0])\n",
    "plt.title('Training and Validation Loss')\n",
    "plt.xlabel('epoch')\n",
    "plt.show()"
   ]
  },
  {
   "cell_type": "code",
   "execution_count": 11,
   "metadata": {
    "execution": {
     "iopub.execute_input": "2020-08-15T08:25:13.985148Z",
     "iopub.status.busy": "2020-08-15T08:25:13.984202Z",
     "iopub.status.idle": "2020-08-15T08:25:43.213958Z",
     "shell.execute_reply": "2020-08-15T08:25:43.212891Z"
    },
    "papermill": {
     "duration": 34.490234,
     "end_time": "2020-08-15T08:25:43.214082",
     "exception": false,
     "start_time": "2020-08-15T08:25:08.723848",
     "status": "completed"
    },
    "tags": []
   },
   "outputs": [],
   "source": [
    "converter = tf.lite.TFLiteConverter.from_keras_model(model)\n",
    "tflite_model = converter.convert()\n",
    "\n",
    "with open('mobnet_kaggle_192.tflite', 'wb') as f:\n",
    "    f.write(tflite_model)"
   ]
  },
  {
   "cell_type": "code",
   "execution_count": null,
   "metadata": {
    "papermill": {
     "duration": 5.471044,
     "end_time": "2020-08-15T08:25:54.042781",
     "exception": false,
     "start_time": "2020-08-15T08:25:48.571737",
     "status": "completed"
    },
    "tags": []
   },
   "outputs": [],
   "source": []
  }
 ],
 "metadata": {
  "kernelspec": {
   "display_name": "Python 3",
   "language": "python",
   "name": "python3"
  },
  "language_info": {
   "codemirror_mode": {
    "name": "ipython",
    "version": 3
   },
   "file_extension": ".py",
   "mimetype": "text/x-python",
   "name": "python",
   "nbconvert_exporter": "python",
   "pygments_lexer": "ipython3",
   "version": "3.7.6"
  },
  "papermill": {
   "duration": 6442.355812,
   "end_time": "2020-08-15T08:26:01.198620",
   "environment_variables": {},
   "exception": null,
   "input_path": "__notebook__.ipynb",
   "output_path": "__notebook__.ipynb",
   "parameters": {},
   "start_time": "2020-08-15T06:38:38.842808",
   "version": "2.1.0"
  }
 },
 "nbformat": 4,
 "nbformat_minor": 4
}
